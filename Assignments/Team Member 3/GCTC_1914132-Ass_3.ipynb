{
  "nbformat": 4,
  "nbformat_minor": 0,
  "metadata": {
    "colab": {
      "provenance": [],
      "collapsed_sections": []
    },
    "kernelspec": {
      "name": "python3",
      "display_name": "Python 3"
    },
    "language_info": {
      "name": "python"
    },
    "accelerator": "GPU"
  },
  "cells": [
    {
      "cell_type": "code",
      "execution_count": 14,
      "metadata": {
        "colab": {
          "base_uri": "https://localhost:8080/"
        },
        "id": "puMWrvC__EZb",
        "outputId": "7d20b4f2-b2de-4f8a-b989-999ca2195cc0"
      },
      "outputs": [
        {
          "output_type": "stream",
          "name": "stdout",
          "text": [
            "\u001b[0m\u001b[01;34mflowers\u001b[0m/\n"
          ]
        }
      ],
      "source": [
        "ls\n"
      ]
    },
    {
      "cell_type": "markdown",
      "source": [
        "To mount drive with Google Colab"
      ],
      "metadata": {
        "id": "I48YryjIaRNZ"
      }
    },
    {
      "cell_type": "code",
      "source": [
        "from google.colab import drive\n",
        "drive.mount('/content/drive')"
      ],
      "metadata": {
        "colab": {
          "base_uri": "https://localhost:8080/"
        },
        "id": "LZZZQN8BDrdu",
        "outputId": "81198ebc-97dd-4045-cdca-50242d7ef7a6"
      },
      "execution_count": 15,
      "outputs": [
        {
          "output_type": "stream",
          "name": "stdout",
          "text": [
            "Drive already mounted at /content/drive; to attempt to forcibly remount, call drive.mount(\"/content/drive\", force_remount=True).\n"
          ]
        }
      ]
    },
    {
      "cell_type": "code",
      "source": [
        "cd /content/drive/MyDrive/Colab Notebooks/CNN"
      ],
      "metadata": {
        "colab": {
          "base_uri": "https://localhost:8080/"
        },
        "id": "rEy4jbBIFN9S",
        "outputId": "ed00b22c-ece6-4f89-d7bd-87842498a80c"
      },
      "execution_count": 2,
      "outputs": [
        {
          "output_type": "stream",
          "name": "stdout",
          "text": [
            "/content/drive/MyDrive/Colab Notebooks/CNN\n"
          ]
        }
      ]
    },
    {
      "cell_type": "markdown",
      "source": [
        "Unzip the folder image\n"
      ],
      "metadata": {
        "id": "IRJhJLGwD3VJ"
      }
    },
    {
      "cell_type": "code",
      "source": [
        "!unzip '/content/drive/MyDrive/Colab Notebooks/CNN/Flowers-Dataset.zip'"
      ],
      "metadata": {
        "colab": {
          "base_uri": "https://localhost:8080/"
        },
        "id": "YxZ-oxcf_mTM",
        "outputId": "08c83929-18d4-4d01-d268-0ba661a18235"
      },
      "execution_count": 4,
      "outputs": [
        {
          "output_type": "stream",
          "name": "stdout",
          "text": [
            "unzip:  cannot find or open /content/drive/MyDrive/Colab Notebooks/CNN/Flowers-Dataset.zip, /content/drive/MyDrive/Colab Notebooks/CNN/Flowers-Dataset.zip.zip or /content/drive/MyDrive/Colab Notebooks/CNN/Flowers-Dataset.zip.ZIP.\n"
          ]
        }
      ]
    },
    {
      "cell_type": "markdown",
      "source": [
        "**Image Augmentation**"
      ],
      "metadata": {
        "id": "GQHlflnGAEiw"
      }
    },
    {
      "cell_type": "code",
      "source": [
        "from tensorflow.keras.preprocessing.image import ImageDataGenerator"
      ],
      "metadata": {
        "id": "jmWRoXwPAOao"
      },
      "execution_count": 5,
      "outputs": []
    },
    {
      "cell_type": "code",
      "source": [
        "train_datagen = ImageDataGenerator(rescale=1./255,zoom_range=0.2,horizontal_flip=True,vertical_flip=True)"
      ],
      "metadata": {
        "id": "jYRzN0REAWFH"
      },
      "execution_count": 6,
      "outputs": []
    },
    {
      "cell_type": "code",
      "source": [
        "test_datagen = ImageDataGenerator(rescale=1./255)"
      ],
      "metadata": {
        "id": "vhIZtgfvAh-D"
      },
      "execution_count": 7,
      "outputs": []
    },
    {
      "cell_type": "code",
      "source": [
        "xtrain = train_datagen.flow_from_directory('/content/drive/MyDrive/Colab Notebooks/CNN/flowers',target_size=(64,64),class_mode='categorical',batch_size=100)"
      ],
      "metadata": {
        "colab": {
          "base_uri": "https://localhost:8080/"
        },
        "id": "B9FpTKpLApmm",
        "outputId": "fcd575ba-d580-4cc6-8524-29675bbaf693"
      },
      "execution_count": 8,
      "outputs": [
        {
          "output_type": "stream",
          "name": "stdout",
          "text": [
            "Found 4394 images belonging to 5 classes.\n"
          ]
        }
      ]
    },
    {
      "cell_type": "code",
      "source": [
        "xtest = test_datagen.flow_from_directory('/content/drive/MyDrive/Colab Notebooks/CNN/flowers',target_size=(64,64),class_mode='categorical',batch_size=100)"
      ],
      "metadata": {
        "colab": {
          "base_uri": "https://localhost:8080/"
        },
        "id": "ai9ax0koDqDT",
        "outputId": "c18059ae-11f0-442d-9d59-8dd822288286"
      },
      "execution_count": 9,
      "outputs": [
        {
          "output_type": "stream",
          "name": "stdout",
          "text": [
            "Found 4394 images belonging to 5 classes.\n"
          ]
        }
      ]
    },
    {
      "cell_type": "markdown",
      "source": [
        "**Create model**"
      ],
      "metadata": {
        "id": "1stOOHB8HI71"
      }
    },
    {
      "cell_type": "code",
      "source": [
        "from tensorflow.keras.models import Sequential\n",
        "from tensorflow.keras.layers import Convolution2D,MaxPooling2D,Flatten,Dense"
      ],
      "metadata": {
        "id": "ZIvEbpaHGCkt"
      },
      "execution_count": 10,
      "outputs": []
    },
    {
      "cell_type": "code",
      "source": [
        "model = Sequential()"
      ],
      "metadata": {
        "id": "JDTiHxrUGp4N"
      },
      "execution_count": 11,
      "outputs": []
    },
    {
      "cell_type": "markdown",
      "source": [
        "**Convolution layer**"
      ],
      "metadata": {
        "id": "7zBNDvBfG1Ne"
      }
    },
    {
      "cell_type": "code",
      "source": [
        "model.add(Convolution2D(32,(3,3),activation='relu',input_shape=(64,64,3)))"
      ],
      "metadata": {
        "id": "2qwcAoeJG_Qj"
      },
      "execution_count": 12,
      "outputs": []
    },
    {
      "cell_type": "markdown",
      "source": [
        "Maxpooling"
      ],
      "metadata": {
        "id": "wuJgbgG6HWPL"
      }
    },
    {
      "cell_type": "code",
      "source": [
        "model.add(MaxPooling2D(pool_size=(2,2)))"
      ],
      "metadata": {
        "id": "UxaogiQkHO5P"
      },
      "execution_count": 13,
      "outputs": []
    },
    {
      "cell_type": "markdown",
      "source": [
        "**Flatten**"
      ],
      "metadata": {
        "id": "sGeUcIUcHg7P"
      }
    },
    {
      "cell_type": "code",
      "source": [
        "model.add(Flatten())"
      ],
      "metadata": {
        "id": "lP5mkEn3Hqi8"
      },
      "execution_count": 16,
      "outputs": []
    },
    {
      "cell_type": "markdown",
      "source": [
        "**Dense layer**"
      ],
      "metadata": {
        "id": "KdBAMGD9HyIs"
      }
    },
    {
      "cell_type": "code",
      "source": [
        "model.add(Dense(300,activation='relu')) #hiddenlayer 1\n",
        "model.add(Dense(300,activation='relu')) #hiddenlayer 2\n",
        "model.add(Dense(150,activation='relu')) #hiddenlayer 3"
      ],
      "metadata": {
        "id": "fKsW1hg8H20V"
      },
      "execution_count": 17,
      "outputs": []
    },
    {
      "cell_type": "markdown",
      "source": [
        "**Output layer**"
      ],
      "metadata": {
        "id": "DKLW7D5zICHW"
      }
    },
    {
      "cell_type": "code",
      "source": [
        "model.add(Dense(5,activation='softmax'))"
      ],
      "metadata": {
        "id": "RIzTRkqFIFNG"
      },
      "execution_count": 18,
      "outputs": []
    },
    {
      "cell_type": "markdown",
      "source": [
        "**Compile the model**"
      ],
      "metadata": {
        "id": "Qsap5g3wIKdG"
      }
    },
    {
      "cell_type": "code",
      "source": [
        "model.compile(optimizer='adam',loss='categorical_crossentropy',metrics=['accuracy'])"
      ],
      "metadata": {
        "id": "038ny_8SIOIR"
      },
      "execution_count": 19,
      "outputs": []
    },
    {
      "cell_type": "code",
      "source": [
        "model.fit_generator(xtrain,\n",
        "                    steps_per_epoch=len(xtrain),\n",
        "                    epochs=10,                \n",
        "                    validation_data=xtest,\n",
        "                    validation_steps=len(xtest))"
      ],
      "metadata": {
        "colab": {
          "base_uri": "https://localhost:8080/"
        },
        "id": "0Q5oDfGNI2Wn",
        "outputId": "be396c3b-4205-4311-caf8-07e9c32a4a19"
      },
      "execution_count": 20,
      "outputs": [
        {
          "metadata": {
            "tags": null
          },
          "name": "stderr",
          "output_type": "stream",
          "text": [
            "/usr/local/lib/python3.7/dist-packages/ipykernel_launcher.py:5: UserWarning: `Model.fit_generator` is deprecated and will be removed in a future version. Please use `Model.fit`, which supports generators.\n",
            "  \"\"\"\n"
          ]
        },
        {
          "output_type": "stream",
          "name": "stdout",
          "text": [
            "Epoch 1/10\n",
            "44/44 [==============================] - 1062s 24s/step - loss: 1.4852 - accuracy: 0.3789 - val_loss: 1.2133 - val_accuracy: 0.4636\n",
            "Epoch 2/10\n",
            "44/44 [==============================] - 32s 744ms/step - loss: 1.1886 - accuracy: 0.4886 - val_loss: 1.1533 - val_accuracy: 0.5191\n",
            "Epoch 3/10\n",
            "44/44 [==============================] - 32s 744ms/step - loss: 1.0887 - accuracy: 0.5585 - val_loss: 1.1013 - val_accuracy: 0.5564\n",
            "Epoch 4/10\n",
            "44/44 [==============================] - 33s 754ms/step - loss: 1.0099 - accuracy: 0.5999 - val_loss: 1.0534 - val_accuracy: 0.5908\n",
            "Epoch 5/10\n",
            "44/44 [==============================] - 32s 745ms/step - loss: 0.9419 - accuracy: 0.6352 - val_loss: 0.9632 - val_accuracy: 0.6234\n",
            "Epoch 6/10\n",
            "44/44 [==============================] - 33s 750ms/step - loss: 0.9308 - accuracy: 0.6372 - val_loss: 1.0556 - val_accuracy: 0.6013\n",
            "Epoch 7/10\n",
            "44/44 [==============================] - 33s 755ms/step - loss: 0.8661 - accuracy: 0.6661 - val_loss: 0.8361 - val_accuracy: 0.6784\n",
            "Epoch 8/10\n",
            "44/44 [==============================] - 34s 785ms/step - loss: 0.8343 - accuracy: 0.6691 - val_loss: 0.7815 - val_accuracy: 0.7021\n",
            "Epoch 9/10\n",
            "44/44 [==============================] - 35s 797ms/step - loss: 0.8079 - accuracy: 0.6953 - val_loss: 0.8403 - val_accuracy: 0.6764\n",
            "Epoch 10/10\n",
            "44/44 [==============================] - 35s 803ms/step - loss: 0.7986 - accuracy: 0.6841 - val_loss: 0.7801 - val_accuracy: 0.7062\n"
          ]
        },
        {
          "output_type": "execute_result",
          "data": {
            "text/plain": [
              "<keras.callbacks.History at 0x7f0a6978a950>"
            ]
          },
          "metadata": {},
          "execution_count": 20
        }
      ]
    },
    {
      "cell_type": "markdown",
      "source": [
        "**Saving**"
      ],
      "metadata": {
        "id": "Af0IkuMpMmoY"
      }
    },
    {
      "cell_type": "code",
      "source": [
        "model.save('Flowers.h5')"
      ],
      "metadata": {
        "id": "i9SyyPY2MpYs"
      },
      "execution_count": 21,
      "outputs": []
    },
    {
      "cell_type": "markdown",
      "source": [
        "**Testing the model**"
      ],
      "metadata": {
        "id": "B8Iju1qKMy-x"
      }
    },
    {
      "cell_type": "code",
      "source": [
        "import numpy as np\n",
        "from tensorflow.keras.preprocessing import image"
      ],
      "metadata": {
        "id": "5cvF8xglMsF9"
      },
      "execution_count": 22,
      "outputs": []
    },
    {
      "cell_type": "code",
      "source": [
        "img = image.load_img('/content/drive/MyDrive/Colab Notebooks/CNN/flowers/sunflower/164670455_29d8e02bbd_n.jpg',target_size=(64,64))"
      ],
      "metadata": {
        "id": "511x-Be3NCqa"
      },
      "execution_count": 27,
      "outputs": []
    },
    {
      "cell_type": "code",
      "source": [
        "img"
      ],
      "metadata": {
        "colab": {
          "base_uri": "https://localhost:8080/",
          "height": 81
        },
        "id": "-z1DyQWTNqCC",
        "outputId": "e84b33be-2be1-495b-e3f5-e8b9308efd32"
      },
      "execution_count": 28,
      "outputs": [
        {
          "output_type": "execute_result",
          "data": {
            "text/plain": [
              "<PIL.Image.Image image mode=RGB size=64x64 at 0x7F0A603252D0>"
            ],
            "image/png": "[encoded data removed]"
          },
          "metadata": {},
          "execution_count": 28
        }
      ]
    },
    {
      "cell_type": "code",
      "source": [
        "x = image.img_to_array(img)\n",
        "x"
      ],
      "metadata": {
        "colab": {
          "base_uri": "https://localhost:8080/"
        },
        "id": "H-5jHNsENw2L",
        "outputId": "71178ea6-ce15-4873-b8ee-0b31f6029eba"
      },
      "execution_count": 29,
      "outputs": [
        {
          "output_type": "execute_result",
          "data": {
            "text/plain": [
              "array([[[  1.,  80., 172.],\n",
              "        [  1.,  80., 172.],\n",
              "        [  1.,  81., 170.],\n",
              "        ...,\n",
              "        [  2.,  84., 168.],\n",
              "        [  3.,  83., 168.],\n",
              "        [  0.,  86., 169.]],\n",
              "\n",
              "       [[  2.,  81., 173.],\n",
              "        [  2.,  81., 173.],\n",
              "        [  2.,  81., 173.],\n",
              "        ...,\n",
              "        [  3.,  85., 169.],\n",
              "        [  4.,  86., 170.],\n",
              "        [  3.,  85., 169.]],\n",
              "\n",
              "       [[  1.,  82., 171.],\n",
              "        [  0.,  82., 168.],\n",
              "        [  0.,  81., 172.],\n",
              "        ...,\n",
              "        [  3.,  85., 169.],\n",
              "        [  5.,  87., 171.],\n",
              "        [  3.,  85., 169.]],\n",
              "\n",
              "       ...,\n",
              "\n",
              "       [[  2.,  96., 194.],\n",
              "        [  8.,  98., 195.],\n",
              "        [  4.,  98., 196.],\n",
              "        ...,\n",
              "        [  5.,  93., 183.],\n",
              "        [  2.,  91., 183.],\n",
              "        [  5.,  92., 185.]],\n",
              "\n",
              "       [[  4.,  98., 196.],\n",
              "        [  2.,  99., 193.],\n",
              "        [  7., 100., 196.],\n",
              "        ...,\n",
              "        [  3.,  92., 184.],\n",
              "        [  2.,  93., 184.],\n",
              "        [  5.,  92., 185.]],\n",
              "\n",
              "       [[  3., 100., 197.],\n",
              "        [  4.,  98., 196.],\n",
              "        [ 55., 112., 193.],\n",
              "        ...,\n",
              "        [  0.,  95., 187.],\n",
              "        [  2.,  93., 186.],\n",
              "        [  0.,  91., 186.]]], dtype=float32)"
            ]
          },
          "metadata": {},
          "execution_count": 29
        }
      ]
    },
    {
      "cell_type": "code",
      "source": [
        "x = np.expand_dims(x,axis=0)\n",
        "x"
      ],
      "metadata": {
        "colab": {
          "base_uri": "https://localhost:8080/"
        },
        "id": "bA4wgqyANyrI",
        "outputId": "ac6a6d17-b66a-4166-f3b1-2fc03e426559"
      },
      "execution_count": 30,
      "outputs": [
        {
          "output_type": "execute_result",
          "data": {
            "text/plain": [
              "array([[[[  1.,  80., 172.],\n",
              "         [  1.,  80., 172.],\n",
              "         [  1.,  81., 170.],\n",
              "         ...,\n",
              "         [  2.,  84., 168.],\n",
              "         [  3.,  83., 168.],\n",
              "         [  0.,  86., 169.]],\n",
              "\n",
              "        [[  2.,  81., 173.],\n",
              "         [  2.,  81., 173.],\n",
              "         [  2.,  81., 173.],\n",
              "         ...,\n",
              "         [  3.,  85., 169.],\n",
              "         [  4.,  86., 170.],\n",
              "         [  3.,  85., 169.]],\n",
              "\n",
              "        [[  1.,  82., 171.],\n",
              "         [  0.,  82., 168.],\n",
              "         [  0.,  81., 172.],\n",
              "         ...,\n",
              "         [  3.,  85., 169.],\n",
              "         [  5.,  87., 171.],\n",
              "         [  3.,  85., 169.]],\n",
              "\n",
              "        ...,\n",
              "\n",
              "        [[  2.,  96., 194.],\n",
              "         [  8.,  98., 195.],\n",
              "         [  4.,  98., 196.],\n",
              "         ...,\n",
              "         [  5.,  93., 183.],\n",
              "         [  2.,  91., 183.],\n",
              "         [  5.,  92., 185.]],\n",
              "\n",
              "        [[  4.,  98., 196.],\n",
              "         [  2.,  99., 193.],\n",
              "         [  7., 100., 196.],\n",
              "         ...,\n",
              "         [  3.,  92., 184.],\n",
              "         [  2.,  93., 184.],\n",
              "         [  5.,  92., 185.]],\n",
              "\n",
              "        [[  3., 100., 197.],\n",
              "         [  4.,  98., 196.],\n",
              "         [ 55., 112., 193.],\n",
              "         ...,\n",
              "         [  0.,  95., 187.],\n",
              "         [  2.,  93., 186.],\n",
              "         [  0.,  91., 186.]]]], dtype=float32)"
            ]
          },
          "metadata": {},
          "execution_count": 30
        }
      ]
    },
    {
      "cell_type": "code",
      "source": [
        "model.predict(x)"
      ],
      "metadata": {
        "colab": {
          "base_uri": "https://localhost:8080/"
        },
        "id": "IfjAfhIoN-UZ",
        "outputId": "729af231-2302-4008-caa9-936aca27f2d0"
      },
      "execution_count": 31,
      "outputs": [
        {
          "output_type": "execute_result",
          "data": {
            "text/plain": [
              "array([[0., 0., 0., 1., 0.]], dtype=float32)"
            ]
          },
          "metadata": {},
          "execution_count": 31
        }
      ]
    },
    {
      "cell_type": "code",
      "source": [
        "xtrain.class_indices"
      ],
      "metadata": {
        "colab": {
          "base_uri": "https://localhost:8080/"
        },
        "id": "6mL4T8CwOFor",
        "outputId": "66517c12-514f-4022-8969-d07dbf7ad2b9"
      },
      "execution_count": 32,
      "outputs": [
        {
          "output_type": "execute_result",
          "data": {
            "text/plain": [
              "{'daisy': 0, 'dandelion': 1, 'rose': 2, 'sunflower': 3, 'tulip': 4}"
            ]
          },
          "metadata": {},
          "execution_count": 32
        }
      ]
    },
    {
      "cell_type": "code",
      "source": [
        "op = ['daisy','dandelion','rose','sunflower','tulip']\n",
        "pred = np.argmax(model.predict(x))\n",
        "op[pred]"
      ],
      "metadata": {
        "colab": {
          "base_uri": "https://localhost:8080/",
          "height": 36
        },
        "id": "tMzc19khOLGo",
        "outputId": "181bd7d8-c6da-4763-9b11-c63d9ec6bab6"
      },
      "execution_count": 33,
      "outputs": [
        {
          "output_type": "execute_result",
          "data": {
            "text/plain": [
              "'sunflower'"
            ],
            "application/vnd.google.colaboratory.intrinsic+json": {
              "type": "string"
            }
          },
          "metadata": {},
          "execution_count": 33
        }
      ]
    }
  ]
}